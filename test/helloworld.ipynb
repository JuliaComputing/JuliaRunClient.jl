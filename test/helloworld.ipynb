{
 "cells": [
  {
   "cell_type": "code",
   "execution_count": null,
   "metadata": {},
   "outputs": [],
   "source": [
    "using JuliaRunClient\n",
    "ctx = Context()"
   ]
  },
  {
   "cell_type": "code",
   "execution_count": null,
   "metadata": {},
   "outputs": [],
   "source": [
    "# let's see if we can connect to the cluster\n",
    "@result getSystemStatus(ctx)"
   ]
  },
  {
   "cell_type": "code",
   "execution_count": null,
   "metadata": {},
   "outputs": [],
   "source": [
    "# get status of our notebook job\n",
    "nb = self()\n",
    "@result getJobStatus(ctx, nb)"
   ]
  },
  {
   "cell_type": "code",
   "execution_count": null,
   "metadata": {},
   "outputs": [],
   "source": [
    "# current scale of our job\n",
    "@result getJobScale(ctx, nb)"
   ]
  },
  {
   "cell_type": "code",
   "execution_count": null,
   "metadata": {},
   "outputs": [],
   "source": [
    "# initialize parallel mode in this notebook\n",
    "initParallel()\n",
    "# scale up to 2 workers\n",
    "@result setJobScale(ctx, nb, 2)\n",
    "waitForWorkers(2)"
   ]
  },
  {
   "cell_type": "code",
   "execution_count": null,
   "metadata": {},
   "outputs": [],
   "source": [
    "# verify that we got them\n",
    "workers()"
   ]
  },
  {
   "cell_type": "code",
   "execution_count": null,
   "metadata": {},
   "outputs": [],
   "source": [
    "# scale back down\n",
    "@result setJobScale(ctx, nb, 0)"
   ]
  },
  {
   "cell_type": "code",
   "execution_count": null,
   "metadata": {},
   "outputs": [],
   "source": [
    "# api errors are thrown as exceptions\n",
    "# here we tried to scale a non existent notebook job\n",
    "nojob = Notebook(\"anonexistentnotebook\")\n",
    "@result setJobScale(ctx, nojob, 2)"
   ]
  },
  {
   "cell_type": "code",
   "execution_count": null,
   "metadata": {
    "collapsed": true
   },
   "outputs": [],
   "source": [
    "# submit a new job\n",
    "hw = JuliaBatch(\"helloworld\")\n",
    "script = joinpath(pwd(), \"helloworld\", \"helloworld.jl\")\n",
    "run_volume = String(split(pwd(), '/')[end])\n",
    "image=\"juliarun\"\n",
    "@result submitJob(ctx, hw; start_script=script, run_volume=run_volume, image=image)"
   ]
  },
  {
   "cell_type": "code",
   "execution_count": null,
   "metadata": {},
   "outputs": [],
   "source": [
    "# wait a while for it to print something\n",
    "sleep(5)\n",
    "# tail to see the output\n",
    "@result tailJob(ctx, hw)"
   ]
  },
  {
   "cell_type": "code",
   "execution_count": null,
   "metadata": {},
   "outputs": [],
   "source": [
    "# clean up\n",
    "@result deleteJob(ctx, hw)"
   ]
  }
 ],
 "metadata": {
  "kernelspec": {
   "display_name": "Julia 0.5.2",
   "language": "julia",
   "name": "julia-0.5"
  },
  "language_info": {
   "file_extension": ".jl",
   "mimetype": "application/julia",
   "name": "julia",
   "version": "0.5.2"
  }
 },
 "nbformat": 4,
 "nbformat_minor": 2
}
